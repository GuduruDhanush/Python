{
 "cells": [
  {
   "cell_type": "markdown",
   "metadata": {},
   "source": [
    "<p>The Fibonacci sequence is defined by the recurrence relation:</p>\n",
    "<blockquote>F<sub><i>n</i></sub> = F<sub><i>n</i>−1</sub> + F<sub><i>n</i>−2</sub>, where F<sub>1</sub> = 1 and F<sub>2</sub> = 1.</blockquote>\n",
    "<p>Hence the first 12 terms will be:</p>\n",
    "<blockquote>F<sub>1</sub> = 1<br />\n",
    "F<sub>2</sub> = 1<br />\n",
    "F<sub>3</sub> = 2<br />\n",
    "F<sub>4</sub> = 3<br />\n",
    "F<sub>5</sub> = 5<br />\n",
    "F<sub>6</sub> = 8<br />\n",
    "F<sub>7</sub> = 13<br />\n",
    "F<sub>8</sub> = 21<br />\n",
    "F<sub>9</sub> = 34<br />\n",
    "F<sub>10</sub> = 55<br />\n",
    "F<sub>11</sub> = 89<br />\n",
    "F<sub>12</sub> = 144</blockquote>\n",
    "<p>The 12th term, F<sub>12</sub>, is the first term to contain three digits.</p>\n",
    "<p>What is the index of the first term in the Fibonacci sequence to contain 1000 digits?</p>"
   ]
  },
  {
   "cell_type": "code",
   "execution_count": 2,
   "metadata": {},
   "outputs": [],
   "source": [
    "def fibonacci(n):\n",
    "    \n",
    "    fibo_list = [1,1]\n",
    "    \n",
    "    for i in range(n):\n",
    "        fibo_list.append(fibo_list[i] + fibo_list[i+1])\n",
    "    \n",
    "    index = []\n",
    "    for num in fibo_list:\n",
    "        if len(str(num)) == 1000:\n",
    "            index.append(fibo_list.index(num) + 1)\n",
    "    return index"
   ]
  },
  {
   "cell_type": "code",
   "execution_count": 4,
   "metadata": {},
   "outputs": [
    {
     "name": "stdout",
     "output_type": "stream",
     "text": [
      "[4782, 4783, 4784, 4785, 4786]\n"
     ]
    }
   ],
   "source": [
    "print(fibonacci(10000))"
   ]
  },
  {
   "cell_type": "code",
   "execution_count": 3,
   "metadata": {},
   "outputs": [
    {
     "name": "stdout",
     "output_type": "stream",
     "text": [
      "4782\n"
     ]
    }
   ],
   "source": [
    "a = 1\n",
    "b = 1\n",
    "term = 2\n",
    "\n",
    "while True:\n",
    "    a, b = b, a + b\n",
    "    term += 1\n",
    "    if len(str(b)) == 1000:\n",
    "        print(term)\n",
    "        break"
   ]
  }
 ],
 "metadata": {
  "kernelspec": {
   "display_name": "Python 3",
   "language": "python",
   "name": "python3"
  },
  "language_info": {
   "codemirror_mode": {
    "name": "ipython",
    "version": 3
   },
   "file_extension": ".py",
   "mimetype": "text/x-python",
   "name": "python",
   "nbconvert_exporter": "python",
   "pygments_lexer": "ipython3",
   "version": "3.8.3"
  }
 },
 "nbformat": 4,
 "nbformat_minor": 4
}
