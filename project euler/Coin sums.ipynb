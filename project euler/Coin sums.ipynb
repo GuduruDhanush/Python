{
 "cells": [
  {
   "cell_type": "markdown",
   "metadata": {},
   "source": [
    "<p>In the United Kingdom the currency is made up of pound (£) and pence (p). There are eight coins in general circulation:</p>\n",
    "<blockquote>1p, 2p, 5p, 10p, 20p, 50p, £1 (100p), and £2 (200p).</blockquote>\n",
    "<p>It is possible to make £2 in the following way:</p>\n",
    "<blockquote>1×£1 + 1×50p + 2×20p + 1×5p + 1×2p + 3×1p</blockquote>\n",
    "<p>How many different ways can £2 be made using any number of coins?</p>"
   ]
  },
  {
   "cell_type": "code",
   "execution_count": 14,
   "metadata": {},
   "outputs": [],
   "source": [
    "coin_dict = {'1p' : 1, '2p' : 2, '5p' : 5, '10p' : 10, '20p' : 20, '50p' : 50, '1e' : 100, '2e' : 200}\n",
    "\n",
    "no_ways = 0\n",
    "for coin in coin_dict.keys():\n",
    "    total = 0\n",
    "    if total == 200:\n",
    "        no_ways += 1\n",
    "        total = 0\n",
    "    for i in range(1,201):\n",
    "        total += coin_dict[coin]*i\n",
    "        \n",
    "    "
   ]
  },
  {
   "cell_type": "code",
   "execution_count": 13,
   "metadata": {},
   "outputs": [
    {
     "data": {
      "text/plain": [
       "0"
      ]
     },
     "execution_count": 13,
     "metadata": {},
     "output_type": "execute_result"
    }
   ],
   "source": [
    "no_ways"
   ]
  },
  {
   "cell_type": "code",
   "execution_count": 11,
   "metadata": {},
   "outputs": [
    {
     "name": "stdout",
     "output_type": "stream",
     "text": [
      "73682\n"
     ]
    }
   ],
   "source": [
    "def ways():\n",
    "\tt = 200\n",
    "\tr_ways = [1] + [0] * t\n",
    "\tfor coin in [1, 2, 5, 10, 20, 50, 100, 200]:\n",
    "\t\tfor i in range(len(r_ways) - coin):\n",
    "\t\t\tr_ways[i + coin] += r_ways[i]\n",
    "\treturn str(r_ways[-1])\n",
    "\n",
    "print(ways())"
   ]
  },
  {
   "cell_type": "code",
   "execution_count": null,
   "metadata": {},
   "outputs": [],
   "source": []
  }
 ],
 "metadata": {
  "kernelspec": {
   "display_name": "Python 3",
   "language": "python",
   "name": "python3"
  },
  "language_info": {
   "codemirror_mode": {
    "name": "ipython",
    "version": 3
   },
   "file_extension": ".py",
   "mimetype": "text/x-python",
   "name": "python",
   "nbconvert_exporter": "python",
   "pygments_lexer": "ipython3",
   "version": "3.8.3"
  }
 },
 "nbformat": 4,
 "nbformat_minor": 4
}
